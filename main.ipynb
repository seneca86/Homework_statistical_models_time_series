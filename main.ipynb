{
 "cells": [
  {
   "attachments": {},
   "cell_type": "markdown",
   "metadata": {},
   "source": [
    "## Homework: statistical models for time series\n",
    "\n",
    "#### Instructions\n",
    "\n",
    "* You will provide a main.py file; it is critical that the code runs (i.e. if I press the \"Run\" button there should be no error message)\n",
    "\n",
    "* You do not need to write text, just code; please `print` important results (otherwise they are executed but do not get printed)\n",
    "\n",
    "* You may interact with your friends but DO NOT copy code: if I detect errors that have been copy pasted and that are suspiciously similar across different submission the grade will be penalized\n",
    "\n",
    "#### (Exercise 1) \n",
    "\n",
    "Read the file `.lesson/assets/NEW-DATA-1.T15.txt` and put it in a dataframe. I want you to generate a forecast for a few of the last observations of the column `10:Lighting_Comedor_Sensor` and then compare against the actual values. Some tips:\n",
    "\n",
    "* rename the columns to simpler names\n",
    "* use `pd.to_datetime` to combine the date and time columns\n",
    "* plot the actuals\n",
    "* represent the ACF plot\n",
    "* split the dataset into train and test, with a split around the last 10% of the observations\n",
    "* use whichever autoregressive model you want: AR, MA, ARIMA, or autoarima (one is enough but it should make sense)\n",
    "* use the model to predict the values for the last piece of the observarions (10% or whatever you chose)\n",
    "* plot both the actuals and the predictions\n",
    "\n",
    "What do you think of the prediction in the short run? And in the long run? How could it be improved?\n",
    "\n",
    "#### (Exercise 2) \n",
    "\n",
    "Do the same thing for the file `.lesson/assets/fred_unemployment.csv`."
   ]
  },
  {
   "cell_type": "markdown",
   "metadata": {},
   "source": []
  }
 ],
 "metadata": {
  "language_info": {
   "name": "python"
  },
  "orig_nbformat": 4
 },
 "nbformat": 4,
 "nbformat_minor": 2
}
